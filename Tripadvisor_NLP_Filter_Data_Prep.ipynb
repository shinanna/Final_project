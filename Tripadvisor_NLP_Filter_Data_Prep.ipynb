{
  "nbformat": 4,
  "nbformat_minor": 0,
  "metadata": {
    "colab": {
      "name": "Tripadvisor_NLP_Filter_Data_Prep.ipynb",
      "provenance": [],
      "collapsed_sections": [],
      "authorship_tag": "ABX9TyN6yWNxSdUsScoFAO3DQy+5",
      "include_colab_link": true
    },
    "kernelspec": {
      "name": "python3",
      "display_name": "Python 3"
    },
    "language_info": {
      "name": "python"
    }
  },
  "cells": [
    {
      "cell_type": "markdown",
      "metadata": {
        "id": "view-in-github",
        "colab_type": "text"
      },
      "source": [
        "<a href=\"https://colab.research.google.com/github/shinanna/Tripadvisor_NLP_Analysis/blob/main/Tripadvisor_NLP_Filter_Data_Prep.ipynb\" target=\"_parent\"><img src=\"https://colab.research.google.com/assets/colab-badge.svg\" alt=\"Open In Colab\"/></a>"
      ]
    },
    {
      "cell_type": "markdown",
      "source": [
        "# Tripadvisor NLP Filter | Data preparation"
      ],
      "metadata": {
        "id": "rdQDUIyn72am"
      }
    },
    {
      "cell_type": "markdown",
      "source": [
        "## Imports"
      ],
      "metadata": {
        "id": "-XA6NVx57sS0"
      }
    },
    {
      "cell_type": "markdown",
      "source": [
        "The latest version of Matplotlib is needed to plot graphs with value labels. "
      ],
      "metadata": {
        "id": "8tS_y5ek67Ne"
      }
    },
    {
      "cell_type": "code",
      "execution_count": 1,
      "metadata": {
        "id": "WX_aK0l2vbN_"
      },
      "outputs": [],
      "source": [
        "%matplotlib inline\n",
        "import pandas as pd\n",
        "import numpy as np\n",
        "import matplotlib.pyplot as plt\n",
        "import seaborn as sns\n",
        "\n",
        "from google.colab import files"
      ]
    },
    {
      "cell_type": "code",
      "source": [
        "import matplotlib\n",
        "matplotlib.__version__"
      ],
      "metadata": {
        "colab": {
          "base_uri": "https://localhost:8080/",
          "height": 35
        },
        "id": "dtAfEConMRJe",
        "outputId": "11ffce86-83ca-4abc-b64e-40c9b1624a1c"
      },
      "execution_count": 2,
      "outputs": [
        {
          "output_type": "execute_result",
          "data": {
            "application/vnd.google.colaboratory.intrinsic+json": {
              "type": "string"
            },
            "text/plain": [
              "'3.5.1'"
            ]
          },
          "metadata": {},
          "execution_count": 2
        }
      ]
    },
    {
      "cell_type": "code",
      "source": [
        "!pip install --upgrade matplotlib"
      ],
      "metadata": {
        "colab": {
          "base_uri": "https://localhost:8080/",
          "height": 502
        },
        "id": "6c1ssF2z6s_s",
        "outputId": "adbf399c-9b88-4528-bea0-593e5812ea3b"
      },
      "execution_count": 1,
      "outputs": [
        {
          "output_type": "stream",
          "name": "stdout",
          "text": [
            "Requirement already satisfied: matplotlib in /usr/local/lib/python3.7/dist-packages (3.2.2)\n",
            "Collecting matplotlib\n",
            "  Downloading matplotlib-3.5.1-cp37-cp37m-manylinux_2_5_x86_64.manylinux1_x86_64.whl (11.2 MB)\n",
            "\u001b[K     |████████████████████████████████| 11.2 MB 5.1 MB/s \n",
            "\u001b[?25hRequirement already satisfied: kiwisolver>=1.0.1 in /usr/local/lib/python3.7/dist-packages (from matplotlib) (1.3.2)\n",
            "Collecting fonttools>=4.22.0\n",
            "  Downloading fonttools-4.29.1-py3-none-any.whl (895 kB)\n",
            "\u001b[K     |████████████████████████████████| 895 kB 39.7 MB/s \n",
            "\u001b[?25hRequirement already satisfied: packaging>=20.0 in /usr/local/lib/python3.7/dist-packages (from matplotlib) (21.3)\n",
            "Requirement already satisfied: pyparsing>=2.2.1 in /usr/local/lib/python3.7/dist-packages (from matplotlib) (3.0.7)\n",
            "Requirement already satisfied: pillow>=6.2.0 in /usr/local/lib/python3.7/dist-packages (from matplotlib) (7.1.2)\n",
            "Requirement already satisfied: python-dateutil>=2.7 in /usr/local/lib/python3.7/dist-packages (from matplotlib) (2.8.2)\n",
            "Requirement already satisfied: cycler>=0.10 in /usr/local/lib/python3.7/dist-packages (from matplotlib) (0.11.0)\n",
            "Requirement already satisfied: numpy>=1.17 in /usr/local/lib/python3.7/dist-packages (from matplotlib) (1.19.5)\n",
            "Requirement already satisfied: six>=1.5 in /usr/local/lib/python3.7/dist-packages (from python-dateutil>=2.7->matplotlib) (1.15.0)\n",
            "Installing collected packages: fonttools, matplotlib\n",
            "  Attempting uninstall: matplotlib\n",
            "    Found existing installation: matplotlib 3.2.2\n",
            "    Uninstalling matplotlib-3.2.2:\n",
            "      Successfully uninstalled matplotlib-3.2.2\n",
            "\u001b[31mERROR: pip's dependency resolver does not currently take into account all the packages that are installed. This behaviour is the source of the following dependency conflicts.\n",
            "albumentations 0.1.12 requires imgaug<0.2.7,>=0.2.5, but you have imgaug 0.2.9 which is incompatible.\u001b[0m\n",
            "Successfully installed fonttools-4.29.1 matplotlib-3.5.1\n"
          ]
        },
        {
          "output_type": "display_data",
          "data": {
            "application/vnd.colab-display-data+json": {
              "pip_warning": {
                "packages": [
                  "matplotlib",
                  "mpl_toolkits"
                ]
              }
            }
          },
          "metadata": {}
        }
      ]
    },
    {
      "cell_type": "code",
      "source": [
        "# set plot parameters\n",
        "sns.set_theme(style=\"darkgrid\", palette=\"crest\")"
      ],
      "metadata": {
        "id": "mZi-rt3lD80z"
      },
      "execution_count": 3,
      "outputs": []
    },
    {
      "cell_type": "code",
      "source": [
        "# import dataset from github\n",
        "url = 'https://raw.githubusercontent.com/shinanna/Tripadvisor_NLP_Analysis/main/datasets/Tripadvisor_Septime.csv'\n",
        "data = pd.read_csv(url)"
      ],
      "metadata": {
        "id": "BJQIHsyTWzNw"
      },
      "execution_count": 4,
      "outputs": []
    },
    {
      "cell_type": "markdown",
      "source": [
        "## Data cleaning"
      ],
      "metadata": {
        "id": "c98ce9_s7w3s"
      }
    },
    {
      "cell_type": "code",
      "source": [
        "# check dataset\n",
        "data.head()"
      ],
      "metadata": {
        "colab": {
          "base_uri": "https://localhost:8080/",
          "height": 250
        },
        "id": "Yuj3FReLYLmn",
        "outputId": "b5433c0f-efee-4045-85da-bc1abc697cf8"
      },
      "execution_count": 5,
      "outputs": [
        {
          "output_type": "execute_result",
          "data": {
            "text/html": [
              "\n",
              "  <div id=\"df-9c369823-045a-4eba-bda7-3dbf1f5dabdb\">\n",
              "    <div class=\"colab-df-container\">\n",
              "      <div>\n",
              "<style scoped>\n",
              "    .dataframe tbody tr th:only-of-type {\n",
              "        vertical-align: middle;\n",
              "    }\n",
              "\n",
              "    .dataframe tbody tr th {\n",
              "        vertical-align: top;\n",
              "    }\n",
              "\n",
              "    .dataframe thead th {\n",
              "        text-align: right;\n",
              "    }\n",
              "</style>\n",
              "<table border=\"1\" class=\"dataframe\">\n",
              "  <thead>\n",
              "    <tr style=\"text-align: right;\">\n",
              "      <th></th>\n",
              "      <th>rev_title</th>\n",
              "      <th>author</th>\n",
              "      <th>author_reviews</th>\n",
              "      <th>ratingdate</th>\n",
              "      <th>text</th>\n",
              "      <th>visitdate</th>\n",
              "      <th>likes</th>\n",
              "      <th>rating</th>\n",
              "    </tr>\n",
              "  </thead>\n",
              "  <tbody>\n",
              "    <tr>\n",
              "      <th>0</th>\n",
              "      <td>Affordable and Comfortable for an Excellent Meal</td>\n",
              "      <td>kevinboss816</td>\n",
              "      <td>5 reviews</td>\n",
              "      <td>Reviewed September 15, 2021</td>\n",
              "      <td>NaN</td>\n",
              "      <td>Date of visit: September 2021</td>\n",
              "      <td>NaN</td>\n",
              "      <td>5</td>\n",
              "    </tr>\n",
              "    <tr>\n",
              "      <th>1</th>\n",
              "      <td>great for vegetarians</td>\n",
              "      <td>Turner S</td>\n",
              "      <td>762 reviews</td>\n",
              "      <td>Reviewed August 14, 2021</td>\n",
              "      <td>Have been lucky enough to enjoy their food a f...</td>\n",
              "      <td>Date of visit: July 2021</td>\n",
              "      <td>NaN</td>\n",
              "      <td>4</td>\n",
              "    </tr>\n",
              "    <tr>\n",
              "      <th>2</th>\n",
              "      <td>Spend your money somewhere else.</td>\n",
              "      <td>758shelinas</td>\n",
              "      <td>24 reviews</td>\n",
              "      <td>Reviewed August 6, 2021</td>\n",
              "      <td>We have visited Septime last Tuesday after wai...</td>\n",
              "      <td>Date of visit: August 2021</td>\n",
              "      <td>2</td>\n",
              "      <td>1</td>\n",
              "    </tr>\n",
              "    <tr>\n",
              "      <th>3</th>\n",
              "      <td>Spectacular - our high expectations were met</td>\n",
              "      <td>bluesky2020a</td>\n",
              "      <td>82 reviews</td>\n",
              "      <td>Reviewed July 27, 2020</td>\n",
              "      <td>We got a reservation at Septime a couple of mo...</td>\n",
              "      <td>Date of visit: July 2020</td>\n",
              "      <td>1</td>\n",
              "      <td>5</td>\n",
              "    </tr>\n",
              "    <tr>\n",
              "      <th>4</th>\n",
              "      <td>Groumet as I'm used to</td>\n",
              "      <td>Sinyanchway</td>\n",
              "      <td>4 reviews</td>\n",
              "      <td>Reviewed March 10, 2020</td>\n",
              "      <td>We were invited here by our business parter an...</td>\n",
              "      <td>Date of visit: February 2020</td>\n",
              "      <td>3</td>\n",
              "      <td>5</td>\n",
              "    </tr>\n",
              "  </tbody>\n",
              "</table>\n",
              "</div>\n",
              "      <button class=\"colab-df-convert\" onclick=\"convertToInteractive('df-9c369823-045a-4eba-bda7-3dbf1f5dabdb')\"\n",
              "              title=\"Convert this dataframe to an interactive table.\"\n",
              "              style=\"display:none;\">\n",
              "        \n",
              "  <svg xmlns=\"http://www.w3.org/2000/svg\" height=\"24px\"viewBox=\"0 0 24 24\"\n",
              "       width=\"24px\">\n",
              "    <path d=\"M0 0h24v24H0V0z\" fill=\"none\"/>\n",
              "    <path d=\"M18.56 5.44l.94 2.06.94-2.06 2.06-.94-2.06-.94-.94-2.06-.94 2.06-2.06.94zm-11 1L8.5 8.5l.94-2.06 2.06-.94-2.06-.94L8.5 2.5l-.94 2.06-2.06.94zm10 10l.94 2.06.94-2.06 2.06-.94-2.06-.94-.94-2.06-.94 2.06-2.06.94z\"/><path d=\"M17.41 7.96l-1.37-1.37c-.4-.4-.92-.59-1.43-.59-.52 0-1.04.2-1.43.59L10.3 9.45l-7.72 7.72c-.78.78-.78 2.05 0 2.83L4 21.41c.39.39.9.59 1.41.59.51 0 1.02-.2 1.41-.59l7.78-7.78 2.81-2.81c.8-.78.8-2.07 0-2.86zM5.41 20L4 18.59l7.72-7.72 1.47 1.35L5.41 20z\"/>\n",
              "  </svg>\n",
              "      </button>\n",
              "      \n",
              "  <style>\n",
              "    .colab-df-container {\n",
              "      display:flex;\n",
              "      flex-wrap:wrap;\n",
              "      gap: 12px;\n",
              "    }\n",
              "\n",
              "    .colab-df-convert {\n",
              "      background-color: #E8F0FE;\n",
              "      border: none;\n",
              "      border-radius: 50%;\n",
              "      cursor: pointer;\n",
              "      display: none;\n",
              "      fill: #1967D2;\n",
              "      height: 32px;\n",
              "      padding: 0 0 0 0;\n",
              "      width: 32px;\n",
              "    }\n",
              "\n",
              "    .colab-df-convert:hover {\n",
              "      background-color: #E2EBFA;\n",
              "      box-shadow: 0px 1px 2px rgba(60, 64, 67, 0.3), 0px 1px 3px 1px rgba(60, 64, 67, 0.15);\n",
              "      fill: #174EA6;\n",
              "    }\n",
              "\n",
              "    [theme=dark] .colab-df-convert {\n",
              "      background-color: #3B4455;\n",
              "      fill: #D2E3FC;\n",
              "    }\n",
              "\n",
              "    [theme=dark] .colab-df-convert:hover {\n",
              "      background-color: #434B5C;\n",
              "      box-shadow: 0px 1px 3px 1px rgba(0, 0, 0, 0.15);\n",
              "      filter: drop-shadow(0px 1px 2px rgba(0, 0, 0, 0.3));\n",
              "      fill: #FFFFFF;\n",
              "    }\n",
              "  </style>\n",
              "\n",
              "      <script>\n",
              "        const buttonEl =\n",
              "          document.querySelector('#df-9c369823-045a-4eba-bda7-3dbf1f5dabdb button.colab-df-convert');\n",
              "        buttonEl.style.display =\n",
              "          google.colab.kernel.accessAllowed ? 'block' : 'none';\n",
              "\n",
              "        async function convertToInteractive(key) {\n",
              "          const element = document.querySelector('#df-9c369823-045a-4eba-bda7-3dbf1f5dabdb');\n",
              "          const dataTable =\n",
              "            await google.colab.kernel.invokeFunction('convertToInteractive',\n",
              "                                                     [key], {});\n",
              "          if (!dataTable) return;\n",
              "\n",
              "          const docLinkHtml = 'Like what you see? Visit the ' +\n",
              "            '<a target=\"_blank\" href=https://colab.research.google.com/notebooks/data_table.ipynb>data table notebook</a>'\n",
              "            + ' to learn more about interactive tables.';\n",
              "          element.innerHTML = '';\n",
              "          dataTable['output_type'] = 'display_data';\n",
              "          await google.colab.output.renderOutput(dataTable, element);\n",
              "          const docLink = document.createElement('div');\n",
              "          docLink.innerHTML = docLinkHtml;\n",
              "          element.appendChild(docLink);\n",
              "        }\n",
              "      </script>\n",
              "    </div>\n",
              "  </div>\n",
              "  "
            ],
            "text/plain": [
              "                                          rev_title        author  ... likes rating\n",
              "0  Affordable and Comfortable for an Excellent Meal  kevinboss816  ...   NaN      5\n",
              "1                             great for vegetarians      Turner S  ...   NaN      4\n",
              "2                  Spend your money somewhere else.   758shelinas  ...   2        1\n",
              "3      Spectacular - our high expectations were met  bluesky2020a  ...   1        5\n",
              "4                            Groumet as I'm used to   Sinyanchway  ...   3        5\n",
              "\n",
              "[5 rows x 8 columns]"
            ]
          },
          "metadata": {},
          "execution_count": 5
        }
      ]
    },
    {
      "cell_type": "code",
      "source": [
        "# check dataset info\n",
        "data.info()"
      ],
      "metadata": {
        "colab": {
          "base_uri": "https://localhost:8080/"
        },
        "id": "QdzpANQlYeLI",
        "outputId": "1e7cd80a-e548-4aa2-8732-d17d14b3c0d4"
      },
      "execution_count": 6,
      "outputs": [
        {
          "output_type": "stream",
          "name": "stdout",
          "text": [
            "<class 'pandas.core.frame.DataFrame'>\n",
            "RangeIndex: 372 entries, 0 to 371\n",
            "Data columns (total 8 columns):\n",
            " #   Column          Non-Null Count  Dtype \n",
            "---  ------          --------------  ----- \n",
            " 0   rev_title       372 non-null    object\n",
            " 1   author          372 non-null    object\n",
            " 2   author_reviews  120 non-null    object\n",
            " 3   ratingdate      372 non-null    object\n",
            " 4   text            330 non-null    object\n",
            " 5   visitdate       359 non-null    object\n",
            " 6   likes           227 non-null    object\n",
            " 7   rating          372 non-null    int64 \n",
            "dtypes: int64(1), object(7)\n",
            "memory usage: 23.4+ KB\n"
          ]
        }
      ]
    },
    {
      "cell_type": "markdown",
      "source": [
        "### Missing values"
      ],
      "metadata": {
        "id": "7Pqmg1iyx1jT"
      }
    },
    {
      "cell_type": "code",
      "source": [
        "# check missing values\n",
        "data.isna().sum()"
      ],
      "metadata": {
        "colab": {
          "base_uri": "https://localhost:8080/"
        },
        "id": "pmPM0tSluPzO",
        "outputId": "f761ac49-56ca-4e20-cd7e-fe9813613657"
      },
      "execution_count": 7,
      "outputs": [
        {
          "output_type": "execute_result",
          "data": {
            "text/plain": [
              "rev_title           0\n",
              "author              0\n",
              "author_reviews    252\n",
              "ratingdate          0\n",
              "text               42\n",
              "visitdate          13\n",
              "likes             145\n",
              "rating              0\n",
              "dtype: int64"
            ]
          },
          "metadata": {},
          "execution_count": 7
        }
      ]
    },
    {
      "cell_type": "code",
      "source": [
        "# drop text missing values\n",
        "data.dropna(subset=['text'], inplace=True)\n",
        "data.text.isna().sum()"
      ],
      "metadata": {
        "colab": {
          "base_uri": "https://localhost:8080/"
        },
        "id": "cEcE2wUarm7U",
        "outputId": "54bfa4c5-a0af-4c27-835a-1dee4ced4192"
      },
      "execution_count": 8,
      "outputs": [
        {
          "output_type": "execute_result",
          "data": {
            "text/plain": [
              "0"
            ]
          },
          "metadata": {},
          "execution_count": 8
        }
      ]
    },
    {
      "cell_type": "code",
      "source": [
        "# replace likes missing values by 0\n",
        "data['likes'].fillna(0, inplace=True)\n",
        "data.likes.isna().sum()"
      ],
      "metadata": {
        "colab": {
          "base_uri": "https://localhost:8080/"
        },
        "id": "lwInutxhk1K-",
        "outputId": "987385a2-59bc-442a-baed-abb027e28e36"
      },
      "execution_count": 9,
      "outputs": [
        {
          "output_type": "execute_result",
          "data": {
            "text/plain": [
              "0"
            ]
          },
          "metadata": {},
          "execution_count": 9
        }
      ]
    },
    {
      "cell_type": "markdown",
      "source": [
        "### Datatype conversion"
      ],
      "metadata": {
        "id": "Frqxx_mP6Hn8"
      }
    },
    {
      "cell_type": "code",
      "source": [
        "# check convertible object datatype\n",
        "data.dtypes"
      ],
      "metadata": {
        "colab": {
          "base_uri": "https://localhost:8080/"
        },
        "id": "TNikyv3o6FpW",
        "outputId": "3a7e99b5-9269-452b-8bf1-18cb790b1870"
      },
      "execution_count": 10,
      "outputs": [
        {
          "output_type": "execute_result",
          "data": {
            "text/plain": [
              "rev_title         object\n",
              "author            object\n",
              "author_reviews    object\n",
              "ratingdate        object\n",
              "text              object\n",
              "visitdate         object\n",
              "likes             object\n",
              "rating             int64\n",
              "dtype: object"
            ]
          },
          "metadata": {},
          "execution_count": 10
        }
      ]
    },
    {
      "cell_type": "code",
      "source": [
        "# clean columns to convert to numeric\n",
        "data['author_reviews'] = data['author_reviews'].str.replace(' reviews', '')\n",
        "data['author_reviews'] = data['author_reviews'].str.replace(' review', '')\n",
        "\n",
        "data['author_reviews'].fillna(0, inplace=True)\n",
        "data['author_reviews'].isna().sum()"
      ],
      "metadata": {
        "colab": {
          "base_uri": "https://localhost:8080/"
        },
        "id": "b1qHrZsX3hGE",
        "outputId": "e5b54533-1471-4c76-dbff-1cb9be74df4b"
      },
      "execution_count": 11,
      "outputs": [
        {
          "output_type": "execute_result",
          "data": {
            "text/plain": [
              "0"
            ]
          },
          "metadata": {},
          "execution_count": 11
        }
      ]
    },
    {
      "cell_type": "code",
      "source": [
        "# convert columns with numbers to numeric dtype\n",
        "data['author_reviews'] = pd.to_numeric(data['author_reviews'], errors='coerce')\n",
        "data.dropna(subset=['author_reviews'], inplace=True)\n",
        "data['author_reviews'] = data['author_reviews'].astype('int')\n",
        "\n",
        "data['likes'] = data['likes'].astype('int')\n",
        "\n",
        "data.dtypes"
      ],
      "metadata": {
        "id": "Yx1Ieq5Y26z7",
        "colab": {
          "base_uri": "https://localhost:8080/"
        },
        "outputId": "933ef7af-cd74-4b43-8f48-0a354e19dc2c"
      },
      "execution_count": 12,
      "outputs": [
        {
          "output_type": "execute_result",
          "data": {
            "text/plain": [
              "rev_title         object\n",
              "author            object\n",
              "author_reviews     int64\n",
              "ratingdate        object\n",
              "text              object\n",
              "visitdate         object\n",
              "likes              int64\n",
              "rating             int64\n",
              "dtype: object"
            ]
          },
          "metadata": {},
          "execution_count": 12
        }
      ]
    },
    {
      "cell_type": "code",
      "source": [
        "# extract dates from strings and convert to datetime formats \n",
        "data['ratingdate'] = data['ratingdate'].str.replace('Reviewed ', '')\n",
        "data['ratingdate'] = pd.to_datetime(data['ratingdate'])\n",
        "\n",
        "data['visitdate'] = data['visitdate'].str.replace('Date of visit: ', '')\n",
        "data['visitdate'] = pd.to_datetime(data['visitdate'])\n",
        "\n",
        "data.dtypes"
      ],
      "metadata": {
        "colab": {
          "base_uri": "https://localhost:8080/"
        },
        "id": "HiCqtj48eKsk",
        "outputId": "452b819e-db72-4628-89a4-e30150208edf"
      },
      "execution_count": 13,
      "outputs": [
        {
          "output_type": "execute_result",
          "data": {
            "text/plain": [
              "rev_title                 object\n",
              "author                    object\n",
              "author_reviews             int64\n",
              "ratingdate        datetime64[ns]\n",
              "text                      object\n",
              "visitdate         datetime64[ns]\n",
              "likes                      int64\n",
              "rating                     int64\n",
              "dtype: object"
            ]
          },
          "metadata": {},
          "execution_count": 13
        }
      ]
    },
    {
      "cell_type": "code",
      "source": [
        "# replace missing values from visitdate by ratingdate of same index\n",
        "data['visitdate'].fillna(data['ratingdate'], inplace=True)\n",
        "\n",
        "# assign visitdate older than ratingdate\n",
        "data['visitdate'] = np.where(data['visitdate']<data['ratingdate'], data['visitdate'], data['ratingdate'])\n",
        "\n",
        "data.visitdate.isna().sum()"
      ],
      "metadata": {
        "colab": {
          "base_uri": "https://localhost:8080/"
        },
        "id": "gVb7h34T6sIY",
        "outputId": "f9b76e62-8e16-4374-d1d6-9b24028f9f68"
      },
      "execution_count": 14,
      "outputs": [
        {
          "output_type": "execute_result",
          "data": {
            "text/plain": [
              "0"
            ]
          },
          "metadata": {},
          "execution_count": 14
        }
      ]
    },
    {
      "cell_type": "code",
      "source": [
        "# check if dataset is clean of missing values\n",
        "data.isna().sum()"
      ],
      "metadata": {
        "colab": {
          "base_uri": "https://localhost:8080/"
        },
        "id": "LkDphgrdrug4",
        "outputId": "f7ac89df-9380-4968-fdc4-3de920c75f25"
      },
      "execution_count": 15,
      "outputs": [
        {
          "output_type": "execute_result",
          "data": {
            "text/plain": [
              "rev_title         0\n",
              "author            0\n",
              "author_reviews    0\n",
              "ratingdate        0\n",
              "text              0\n",
              "visitdate         0\n",
              "likes             0\n",
              "rating            0\n",
              "dtype: int64"
            ]
          },
          "metadata": {},
          "execution_count": 15
        }
      ]
    },
    {
      "cell_type": "code",
      "source": [
        "# drop duplicates if any\n",
        "data.duplicated().any()"
      ],
      "metadata": {
        "colab": {
          "base_uri": "https://localhost:8080/"
        },
        "id": "4t5fk0zWYVoI",
        "outputId": "1490da25-b80d-4335-b4dc-fc36400d5e4c"
      },
      "execution_count": 16,
      "outputs": [
        {
          "output_type": "execute_result",
          "data": {
            "text/plain": [
              "False"
            ]
          },
          "metadata": {},
          "execution_count": 16
        }
      ]
    },
    {
      "cell_type": "code",
      "source": [
        "# check clean dataset head\n",
        "data.head()"
      ],
      "metadata": {
        "colab": {
          "base_uri": "https://localhost:8080/",
          "height": 206
        },
        "id": "Pt-vh9NJkCSB",
        "outputId": "ba28f0da-ea28-4f8a-822e-acdfd7321be0"
      },
      "execution_count": 17,
      "outputs": [
        {
          "output_type": "execute_result",
          "data": {
            "text/html": [
              "\n",
              "  <div id=\"df-115536c0-78bc-4dee-b6bb-d187abc9af3a\">\n",
              "    <div class=\"colab-df-container\">\n",
              "      <div>\n",
              "<style scoped>\n",
              "    .dataframe tbody tr th:only-of-type {\n",
              "        vertical-align: middle;\n",
              "    }\n",
              "\n",
              "    .dataframe tbody tr th {\n",
              "        vertical-align: top;\n",
              "    }\n",
              "\n",
              "    .dataframe thead th {\n",
              "        text-align: right;\n",
              "    }\n",
              "</style>\n",
              "<table border=\"1\" class=\"dataframe\">\n",
              "  <thead>\n",
              "    <tr style=\"text-align: right;\">\n",
              "      <th></th>\n",
              "      <th>rev_title</th>\n",
              "      <th>author</th>\n",
              "      <th>author_reviews</th>\n",
              "      <th>ratingdate</th>\n",
              "      <th>text</th>\n",
              "      <th>visitdate</th>\n",
              "      <th>likes</th>\n",
              "      <th>rating</th>\n",
              "    </tr>\n",
              "  </thead>\n",
              "  <tbody>\n",
              "    <tr>\n",
              "      <th>1</th>\n",
              "      <td>great for vegetarians</td>\n",
              "      <td>Turner S</td>\n",
              "      <td>762</td>\n",
              "      <td>2021-08-14</td>\n",
              "      <td>Have been lucky enough to enjoy their food a f...</td>\n",
              "      <td>2021-07-01</td>\n",
              "      <td>0</td>\n",
              "      <td>4</td>\n",
              "    </tr>\n",
              "    <tr>\n",
              "      <th>2</th>\n",
              "      <td>Spend your money somewhere else.</td>\n",
              "      <td>758shelinas</td>\n",
              "      <td>24</td>\n",
              "      <td>2021-08-06</td>\n",
              "      <td>We have visited Septime last Tuesday after wai...</td>\n",
              "      <td>2021-08-01</td>\n",
              "      <td>2</td>\n",
              "      <td>1</td>\n",
              "    </tr>\n",
              "    <tr>\n",
              "      <th>3</th>\n",
              "      <td>Spectacular - our high expectations were met</td>\n",
              "      <td>bluesky2020a</td>\n",
              "      <td>82</td>\n",
              "      <td>2020-07-27</td>\n",
              "      <td>We got a reservation at Septime a couple of mo...</td>\n",
              "      <td>2020-07-01</td>\n",
              "      <td>1</td>\n",
              "      <td>5</td>\n",
              "    </tr>\n",
              "    <tr>\n",
              "      <th>4</th>\n",
              "      <td>Groumet as I'm used to</td>\n",
              "      <td>Sinyanchway</td>\n",
              "      <td>4</td>\n",
              "      <td>2020-03-10</td>\n",
              "      <td>We were invited here by our business parter an...</td>\n",
              "      <td>2020-02-01</td>\n",
              "      <td>3</td>\n",
              "      <td>5</td>\n",
              "    </tr>\n",
              "    <tr>\n",
              "      <th>5</th>\n",
              "      <td>If you can get a table, you're in for the meal...</td>\n",
              "      <td>Sophie F</td>\n",
              "      <td>31</td>\n",
              "      <td>2020-02-21</td>\n",
              "      <td>Took me years to secure a reservation, but it ...</td>\n",
              "      <td>2020-02-01</td>\n",
              "      <td>2</td>\n",
              "      <td>5</td>\n",
              "    </tr>\n",
              "  </tbody>\n",
              "</table>\n",
              "</div>\n",
              "      <button class=\"colab-df-convert\" onclick=\"convertToInteractive('df-115536c0-78bc-4dee-b6bb-d187abc9af3a')\"\n",
              "              title=\"Convert this dataframe to an interactive table.\"\n",
              "              style=\"display:none;\">\n",
              "        \n",
              "  <svg xmlns=\"http://www.w3.org/2000/svg\" height=\"24px\"viewBox=\"0 0 24 24\"\n",
              "       width=\"24px\">\n",
              "    <path d=\"M0 0h24v24H0V0z\" fill=\"none\"/>\n",
              "    <path d=\"M18.56 5.44l.94 2.06.94-2.06 2.06-.94-2.06-.94-.94-2.06-.94 2.06-2.06.94zm-11 1L8.5 8.5l.94-2.06 2.06-.94-2.06-.94L8.5 2.5l-.94 2.06-2.06.94zm10 10l.94 2.06.94-2.06 2.06-.94-2.06-.94-.94-2.06-.94 2.06-2.06.94z\"/><path d=\"M17.41 7.96l-1.37-1.37c-.4-.4-.92-.59-1.43-.59-.52 0-1.04.2-1.43.59L10.3 9.45l-7.72 7.72c-.78.78-.78 2.05 0 2.83L4 21.41c.39.39.9.59 1.41.59.51 0 1.02-.2 1.41-.59l7.78-7.78 2.81-2.81c.8-.78.8-2.07 0-2.86zM5.41 20L4 18.59l7.72-7.72 1.47 1.35L5.41 20z\"/>\n",
              "  </svg>\n",
              "      </button>\n",
              "      \n",
              "  <style>\n",
              "    .colab-df-container {\n",
              "      display:flex;\n",
              "      flex-wrap:wrap;\n",
              "      gap: 12px;\n",
              "    }\n",
              "\n",
              "    .colab-df-convert {\n",
              "      background-color: #E8F0FE;\n",
              "      border: none;\n",
              "      border-radius: 50%;\n",
              "      cursor: pointer;\n",
              "      display: none;\n",
              "      fill: #1967D2;\n",
              "      height: 32px;\n",
              "      padding: 0 0 0 0;\n",
              "      width: 32px;\n",
              "    }\n",
              "\n",
              "    .colab-df-convert:hover {\n",
              "      background-color: #E2EBFA;\n",
              "      box-shadow: 0px 1px 2px rgba(60, 64, 67, 0.3), 0px 1px 3px 1px rgba(60, 64, 67, 0.15);\n",
              "      fill: #174EA6;\n",
              "    }\n",
              "\n",
              "    [theme=dark] .colab-df-convert {\n",
              "      background-color: #3B4455;\n",
              "      fill: #D2E3FC;\n",
              "    }\n",
              "\n",
              "    [theme=dark] .colab-df-convert:hover {\n",
              "      background-color: #434B5C;\n",
              "      box-shadow: 0px 1px 3px 1px rgba(0, 0, 0, 0.15);\n",
              "      filter: drop-shadow(0px 1px 2px rgba(0, 0, 0, 0.3));\n",
              "      fill: #FFFFFF;\n",
              "    }\n",
              "  </style>\n",
              "\n",
              "      <script>\n",
              "        const buttonEl =\n",
              "          document.querySelector('#df-115536c0-78bc-4dee-b6bb-d187abc9af3a button.colab-df-convert');\n",
              "        buttonEl.style.display =\n",
              "          google.colab.kernel.accessAllowed ? 'block' : 'none';\n",
              "\n",
              "        async function convertToInteractive(key) {\n",
              "          const element = document.querySelector('#df-115536c0-78bc-4dee-b6bb-d187abc9af3a');\n",
              "          const dataTable =\n",
              "            await google.colab.kernel.invokeFunction('convertToInteractive',\n",
              "                                                     [key], {});\n",
              "          if (!dataTable) return;\n",
              "\n",
              "          const docLinkHtml = 'Like what you see? Visit the ' +\n",
              "            '<a target=\"_blank\" href=https://colab.research.google.com/notebooks/data_table.ipynb>data table notebook</a>'\n",
              "            + ' to learn more about interactive tables.';\n",
              "          element.innerHTML = '';\n",
              "          dataTable['output_type'] = 'display_data';\n",
              "          await google.colab.output.renderOutput(dataTable, element);\n",
              "          const docLink = document.createElement('div');\n",
              "          docLink.innerHTML = docLinkHtml;\n",
              "          element.appendChild(docLink);\n",
              "        }\n",
              "      </script>\n",
              "    </div>\n",
              "  </div>\n",
              "  "
            ],
            "text/plain": [
              "                                           rev_title  ... rating\n",
              "1                              great for vegetarians  ...      4\n",
              "2                   Spend your money somewhere else.  ...      1\n",
              "3       Spectacular - our high expectations were met  ...      5\n",
              "4                             Groumet as I'm used to  ...      5\n",
              "5  If you can get a table, you're in for the meal...  ...      5\n",
              "\n",
              "[5 rows x 8 columns]"
            ]
          },
          "metadata": {},
          "execution_count": 17
        }
      ]
    },
    {
      "cell_type": "markdown",
      "source": [
        "## Exploratory Data Analysis"
      ],
      "metadata": {
        "id": "ZgtjWj4z8YIH"
      }
    },
    {
      "cell_type": "markdown",
      "source": [
        "Encoding the dataset doesn't make much sense here because the categorical columns left are unique text features. Let's explore numeric and datetime columns instead."
      ],
      "metadata": {
        "id": "f9JhNXSSApb_"
      }
    },
    {
      "cell_type": "markdown",
      "source": [
        "### Numeric Data Analyses"
      ],
      "metadata": {
        "id": "dH4WRLV1lP6J"
      }
    },
    {
      "cell_type": "code",
      "source": [
        "# process basic statistics on numeric columns\n",
        "data.describe()"
      ],
      "metadata": {
        "colab": {
          "base_uri": "https://localhost:8080/",
          "height": 300
        },
        "id": "KmTqmf4d8sOX",
        "outputId": "4c5f027f-7d85-48c1-e3be-f30840855905"
      },
      "execution_count": 18,
      "outputs": [
        {
          "output_type": "execute_result",
          "data": {
            "text/html": [
              "\n",
              "  <div id=\"df-ab030f26-409e-4033-81c6-2038667d7794\">\n",
              "    <div class=\"colab-df-container\">\n",
              "      <div>\n",
              "<style scoped>\n",
              "    .dataframe tbody tr th:only-of-type {\n",
              "        vertical-align: middle;\n",
              "    }\n",
              "\n",
              "    .dataframe tbody tr th {\n",
              "        vertical-align: top;\n",
              "    }\n",
              "\n",
              "    .dataframe thead th {\n",
              "        text-align: right;\n",
              "    }\n",
              "</style>\n",
              "<table border=\"1\" class=\"dataframe\">\n",
              "  <thead>\n",
              "    <tr style=\"text-align: right;\">\n",
              "      <th></th>\n",
              "      <th>author_reviews</th>\n",
              "      <th>likes</th>\n",
              "      <th>rating</th>\n",
              "    </tr>\n",
              "  </thead>\n",
              "  <tbody>\n",
              "    <tr>\n",
              "      <th>count</th>\n",
              "      <td>329.000000</td>\n",
              "      <td>329.000000</td>\n",
              "      <td>329.000000</td>\n",
              "    </tr>\n",
              "    <tr>\n",
              "      <th>mean</th>\n",
              "      <td>18.662614</td>\n",
              "      <td>1.340426</td>\n",
              "      <td>4.349544</td>\n",
              "    </tr>\n",
              "    <tr>\n",
              "      <th>std</th>\n",
              "      <td>73.266336</td>\n",
              "      <td>1.999903</td>\n",
              "      <td>1.022316</td>\n",
              "    </tr>\n",
              "    <tr>\n",
              "      <th>min</th>\n",
              "      <td>0.000000</td>\n",
              "      <td>0.000000</td>\n",
              "      <td>1.000000</td>\n",
              "    </tr>\n",
              "    <tr>\n",
              "      <th>25%</th>\n",
              "      <td>0.000000</td>\n",
              "      <td>0.000000</td>\n",
              "      <td>4.000000</td>\n",
              "    </tr>\n",
              "    <tr>\n",
              "      <th>50%</th>\n",
              "      <td>0.000000</td>\n",
              "      <td>1.000000</td>\n",
              "      <td>5.000000</td>\n",
              "    </tr>\n",
              "    <tr>\n",
              "      <th>75%</th>\n",
              "      <td>0.000000</td>\n",
              "      <td>2.000000</td>\n",
              "      <td>5.000000</td>\n",
              "    </tr>\n",
              "    <tr>\n",
              "      <th>max</th>\n",
              "      <td>783.000000</td>\n",
              "      <td>20.000000</td>\n",
              "      <td>5.000000</td>\n",
              "    </tr>\n",
              "  </tbody>\n",
              "</table>\n",
              "</div>\n",
              "      <button class=\"colab-df-convert\" onclick=\"convertToInteractive('df-ab030f26-409e-4033-81c6-2038667d7794')\"\n",
              "              title=\"Convert this dataframe to an interactive table.\"\n",
              "              style=\"display:none;\">\n",
              "        \n",
              "  <svg xmlns=\"http://www.w3.org/2000/svg\" height=\"24px\"viewBox=\"0 0 24 24\"\n",
              "       width=\"24px\">\n",
              "    <path d=\"M0 0h24v24H0V0z\" fill=\"none\"/>\n",
              "    <path d=\"M18.56 5.44l.94 2.06.94-2.06 2.06-.94-2.06-.94-.94-2.06-.94 2.06-2.06.94zm-11 1L8.5 8.5l.94-2.06 2.06-.94-2.06-.94L8.5 2.5l-.94 2.06-2.06.94zm10 10l.94 2.06.94-2.06 2.06-.94-2.06-.94-.94-2.06-.94 2.06-2.06.94z\"/><path d=\"M17.41 7.96l-1.37-1.37c-.4-.4-.92-.59-1.43-.59-.52 0-1.04.2-1.43.59L10.3 9.45l-7.72 7.72c-.78.78-.78 2.05 0 2.83L4 21.41c.39.39.9.59 1.41.59.51 0 1.02-.2 1.41-.59l7.78-7.78 2.81-2.81c.8-.78.8-2.07 0-2.86zM5.41 20L4 18.59l7.72-7.72 1.47 1.35L5.41 20z\"/>\n",
              "  </svg>\n",
              "      </button>\n",
              "      \n",
              "  <style>\n",
              "    .colab-df-container {\n",
              "      display:flex;\n",
              "      flex-wrap:wrap;\n",
              "      gap: 12px;\n",
              "    }\n",
              "\n",
              "    .colab-df-convert {\n",
              "      background-color: #E8F0FE;\n",
              "      border: none;\n",
              "      border-radius: 50%;\n",
              "      cursor: pointer;\n",
              "      display: none;\n",
              "      fill: #1967D2;\n",
              "      height: 32px;\n",
              "      padding: 0 0 0 0;\n",
              "      width: 32px;\n",
              "    }\n",
              "\n",
              "    .colab-df-convert:hover {\n",
              "      background-color: #E2EBFA;\n",
              "      box-shadow: 0px 1px 2px rgba(60, 64, 67, 0.3), 0px 1px 3px 1px rgba(60, 64, 67, 0.15);\n",
              "      fill: #174EA6;\n",
              "    }\n",
              "\n",
              "    [theme=dark] .colab-df-convert {\n",
              "      background-color: #3B4455;\n",
              "      fill: #D2E3FC;\n",
              "    }\n",
              "\n",
              "    [theme=dark] .colab-df-convert:hover {\n",
              "      background-color: #434B5C;\n",
              "      box-shadow: 0px 1px 3px 1px rgba(0, 0, 0, 0.15);\n",
              "      filter: drop-shadow(0px 1px 2px rgba(0, 0, 0, 0.3));\n",
              "      fill: #FFFFFF;\n",
              "    }\n",
              "  </style>\n",
              "\n",
              "      <script>\n",
              "        const buttonEl =\n",
              "          document.querySelector('#df-ab030f26-409e-4033-81c6-2038667d7794 button.colab-df-convert');\n",
              "        buttonEl.style.display =\n",
              "          google.colab.kernel.accessAllowed ? 'block' : 'none';\n",
              "\n",
              "        async function convertToInteractive(key) {\n",
              "          const element = document.querySelector('#df-ab030f26-409e-4033-81c6-2038667d7794');\n",
              "          const dataTable =\n",
              "            await google.colab.kernel.invokeFunction('convertToInteractive',\n",
              "                                                     [key], {});\n",
              "          if (!dataTable) return;\n",
              "\n",
              "          const docLinkHtml = 'Like what you see? Visit the ' +\n",
              "            '<a target=\"_blank\" href=https://colab.research.google.com/notebooks/data_table.ipynb>data table notebook</a>'\n",
              "            + ' to learn more about interactive tables.';\n",
              "          element.innerHTML = '';\n",
              "          dataTable['output_type'] = 'display_data';\n",
              "          await google.colab.output.renderOutput(dataTable, element);\n",
              "          const docLink = document.createElement('div');\n",
              "          docLink.innerHTML = docLinkHtml;\n",
              "          element.appendChild(docLink);\n",
              "        }\n",
              "      </script>\n",
              "    </div>\n",
              "  </div>\n",
              "  "
            ],
            "text/plain": [
              "       author_reviews       likes      rating\n",
              "count      329.000000  329.000000  329.000000\n",
              "mean        18.662614    1.340426    4.349544\n",
              "std         73.266336    1.999903    1.022316\n",
              "min          0.000000    0.000000    1.000000\n",
              "25%          0.000000    0.000000    4.000000\n",
              "50%          0.000000    1.000000    5.000000\n",
              "75%          0.000000    2.000000    5.000000\n",
              "max        783.000000   20.000000    5.000000"
            ]
          },
          "metadata": {},
          "execution_count": 18
        }
      ]
    },
    {
      "cell_type": "code",
      "source": [
        "# check for any outliers\n",
        "fig, (ax1, ax2, ax3) = plt.subplots(1, 3, figsize=(18, 5))\n",
        "\n",
        "sns.boxplot(data=data, ax=ax1)\n",
        "sns.boxplot(y=data.likes, ax=ax2)\n",
        "sns.boxplot(y=data.rating, ax=ax3)\n",
        "fig.suptitle('Distribution boxplots to check for outliers')\n",
        "\n",
        "plt.show()"
      ],
      "metadata": {
        "colab": {
          "base_uri": "https://localhost:8080/",
          "height": 359
        },
        "id": "3prYXPzH8278",
        "outputId": "1b3b79ad-f021-4c2e-82ac-9d71138997ad"
      },
      "execution_count": 19,
      "outputs": [
        {
          "output_type": "display_data",
          "data": {
            "image/png": "[encoded data removed]",
            "text/plain": [
              "<Figure size 1296x360 with 3 Axes>"
            ]
          },
          "metadata": {}
        }
      ]
    },
    {
      "cell_type": "code",
      "source": [
        "# rating distribution (out of 5)\n",
        "fig, ax = plt.subplots(figsize=(10, 5))\n",
        "\n",
        "sns.countplot(data=data, x='rating', ax=ax)\n",
        "ax.bar_label(ax.containers[0])\n",
        "ax.set_title('Customer rating distribution')\n",
        "\n",
        "plt.show()"
      ],
      "metadata": {
        "colab": {
          "base_uri": "https://localhost:8080/",
          "height": 355
        },
        "id": "bXsRbV0glPMH",
        "outputId": "449c88fc-a850-4d7e-fd30-618e30c41511"
      },
      "execution_count": 20,
      "outputs": [
        {
          "output_type": "display_data",
          "data": {
            "image/png": "[encoded data removed]",
            "text/plain": [
              "<Figure size 720x360 with 1 Axes>"
            ]
          },
          "metadata": {}
        }
      ]
    },
    {
      "cell_type": "code",
      "source": [
        "# see ratings by author's 'influence' rate\n",
        "influence = data.groupby('rating')[['author_reviews', 'likes']].mean()\n",
        "\n",
        "fig, ax1 = plt.subplots(figsize=(10, 5))\n",
        "\n",
        "with sns.axes_style(\"dark\"):\n",
        "  sns.lineplot(x='rating', y='author_reviews', data=influence, ax=ax1, color='#84b293')\n",
        "  ax2 = ax1.twinx()\n",
        "  sns.lineplot(x='rating', y='likes', data=influence, ax=ax2, color='darkblue')\n",
        "  fig.legend(labels=['author_reviews', 'likes'], loc='right', bbox_to_anchor=(0.5, 0.5))\n",
        "\n",
        "fig.suptitle('Number of total reviews per author vs Number of likes per review by customer rating')\n",
        "plt.show()"
      ],
      "metadata": {
        "colab": {
          "base_uri": "https://localhost:8080/",
          "height": 375
        },
        "id": "wiZCXDWumNyE",
        "outputId": "366b250f-7538-46d5-89d8-c8c93521d920"
      },
      "execution_count": 21,
      "outputs": [
        {
          "output_type": "display_data",
          "data": {
            "image/png": "[encoded data removed]",
            "text/plain": [
              "<Figure size 720x360 with 2 Axes>"
            ]
          },
          "metadata": {}
        }
      ]
    },
    {
      "cell_type": "markdown",
      "source": [
        "Higher ratings are also given by most active contributers (who have posted more than 40 reviews overall). Although likes are not a reliable metrics due to lack of inputs, there seems to be a negative colinearity with rating: negative feedbacks could also tend to be more supported. "
      ],
      "metadata": {
        "id": "ZHDu3Vvuvviv"
      }
    },
    {
      "cell_type": "markdown",
      "source": [
        "### Time Analyses"
      ],
      "metadata": {
        "id": "ZulICCYxiYv_"
      }
    },
    {
      "cell_type": "markdown",
      "source": [
        "Visit dates and rating dates distribution should be similar but some visit dates have been computed when rating dates are automatically filled. Let's focus on rating date only for further EDA, assuming the rating is filled shortly after the visit."
      ],
      "metadata": {
        "id": "Az69feLyItKf"
      }
    },
    {
      "cell_type": "code",
      "source": [
        "# compare visitdate and ratingdate distributions\n",
        "fig, ax = plt.subplots(figsize=(10, 5))\n",
        "\n",
        "sns.histplot(data=data, x='ratingdate', ax=ax)\n",
        "sns.histplot(data=data, x='visitdate', ax=ax, fill=False, color='darkblue')\n",
        "ax.set(xlabel=None)\n",
        "ax.set_title('Rating and visit years distribution')\n",
        "fig.legend(labels=['ratingdate', 'visitdate'], loc='upper right', bbox_to_anchor=(0.8, 0.8))\n",
        "\n",
        "plt.show()"
      ],
      "metadata": {
        "id": "qiqr3NOy8b-V",
        "colab": {
          "base_uri": "https://localhost:8080/",
          "height": 338
        },
        "outputId": "798bc84a-d559-4a9b-aa7c-a5b0f6492011"
      },
      "execution_count": 22,
      "outputs": [
        {
          "output_type": "display_data",
          "data": {
            "image/png": "[encoded data removed]",
            "text/plain": [
              "<Figure size 720x360 with 1 Axes>"
            ]
          },
          "metadata": {}
        }
      ]
    },
    {
      "cell_type": "markdown",
      "source": [
        "The distribution of rating dates is bimodal: there is a noticeable peak in ratings in 2014, when the restaurant gets a first Michelin-star, and then in 2016, when it enters The World’s 50 Best Restaurants. "
      ],
      "metadata": {
        "id": "zWSBTow7PzrY"
      }
    },
    {
      "cell_type": "code",
      "source": [
        "# plot restaurant visit evolution since opening\n",
        "fig, ax = plt.subplots(figsize=(10, 5))\n",
        "\n",
        "sns.histplot(data=data, x='ratingdate', ax=ax, bins=100)\n",
        "ax.set(xlabel=None)\n",
        "ax.set_title('Rating and visit dates distribution')\n",
        "\n",
        "plt.show()"
      ],
      "metadata": {
        "colab": {
          "base_uri": "https://localhost:8080/",
          "height": 338
        },
        "id": "U-bL9mIEZEqT",
        "outputId": "93ec87fb-1877-4b43-b9b6-37244ce122dc"
      },
      "execution_count": 23,
      "outputs": [
        {
          "output_type": "display_data",
          "data": {
            "image/png": "[encoded data removed]",
            "text/plain": [
              "<Figure size 720x360 with 1 Axes>"
            ]
          },
          "metadata": {}
        }
      ]
    },
    {
      "cell_type": "markdown",
      "source": [
        "Confinings in France are visible in the 2020-2021 period, it seems wise to exclude this period when processing time-related statistics. "
      ],
      "metadata": {
        "id": "f1xeUlJDcifm"
      }
    },
    {
      "cell_type": "code",
      "source": [
        "# add ratingdate weekday column to dataset\n",
        "data['weekday'] = data['ratingdate'].dt.day_name()\n",
        "data['month'] = data['ratingdate'].dt.month_name()\n",
        "data.head()"
      ],
      "metadata": {
        "colab": {
          "base_uri": "https://localhost:8080/",
          "height": 206
        },
        "id": "-fq1mLgLLNzQ",
        "outputId": "5948d5e3-ad3f-4131-86e5-533ffe935435"
      },
      "execution_count": 24,
      "outputs": [
        {
          "output_type": "execute_result",
          "data": {
            "text/html": [
              "\n",
              "  <div id=\"df-1f58f582-540d-46fb-b101-fe68451bf000\">\n",
              "    <div class=\"colab-df-container\">\n",
              "      <div>\n",
              "<style scoped>\n",
              "    .dataframe tbody tr th:only-of-type {\n",
              "        vertical-align: middle;\n",
              "    }\n",
              "\n",
              "    .dataframe tbody tr th {\n",
              "        vertical-align: top;\n",
              "    }\n",
              "\n",
              "    .dataframe thead th {\n",
              "        text-align: right;\n",
              "    }\n",
              "</style>\n",
              "<table border=\"1\" class=\"dataframe\">\n",
              "  <thead>\n",
              "    <tr style=\"text-align: right;\">\n",
              "      <th></th>\n",
              "      <th>rev_title</th>\n",
              "      <th>author</th>\n",
              "      <th>author_reviews</th>\n",
              "      <th>ratingdate</th>\n",
              "      <th>text</th>\n",
              "      <th>visitdate</th>\n",
              "      <th>likes</th>\n",
              "      <th>rating</th>\n",
              "      <th>weekday</th>\n",
              "      <th>month</th>\n",
              "    </tr>\n",
              "  </thead>\n",
              "  <tbody>\n",
              "    <tr>\n",
              "      <th>1</th>\n",
              "      <td>great for vegetarians</td>\n",
              "      <td>Turner S</td>\n",
              "      <td>762</td>\n",
              "      <td>2021-08-14</td>\n",
              "      <td>Have been lucky enough to enjoy their food a f...</td>\n",
              "      <td>2021-07-01</td>\n",
              "      <td>0</td>\n",
              "      <td>4</td>\n",
              "      <td>Saturday</td>\n",
              "      <td>August</td>\n",
              "    </tr>\n",
              "    <tr>\n",
              "      <th>2</th>\n",
              "      <td>Spend your money somewhere else.</td>\n",
              "      <td>758shelinas</td>\n",
              "      <td>24</td>\n",
              "      <td>2021-08-06</td>\n",
              "      <td>We have visited Septime last Tuesday after wai...</td>\n",
              "      <td>2021-08-01</td>\n",
              "      <td>2</td>\n",
              "      <td>1</td>\n",
              "      <td>Friday</td>\n",
              "      <td>August</td>\n",
              "    </tr>\n",
              "    <tr>\n",
              "      <th>3</th>\n",
              "      <td>Spectacular - our high expectations were met</td>\n",
              "      <td>bluesky2020a</td>\n",
              "      <td>82</td>\n",
              "      <td>2020-07-27</td>\n",
              "      <td>We got a reservation at Septime a couple of mo...</td>\n",
              "      <td>2020-07-01</td>\n",
              "      <td>1</td>\n",
              "      <td>5</td>\n",
              "      <td>Monday</td>\n",
              "      <td>July</td>\n",
              "    </tr>\n",
              "    <tr>\n",
              "      <th>4</th>\n",
              "      <td>Groumet as I'm used to</td>\n",
              "      <td>Sinyanchway</td>\n",
              "      <td>4</td>\n",
              "      <td>2020-03-10</td>\n",
              "      <td>We were invited here by our business parter an...</td>\n",
              "      <td>2020-02-01</td>\n",
              "      <td>3</td>\n",
              "      <td>5</td>\n",
              "      <td>Tuesday</td>\n",
              "      <td>March</td>\n",
              "    </tr>\n",
              "    <tr>\n",
              "      <th>5</th>\n",
              "      <td>If you can get a table, you're in for the meal...</td>\n",
              "      <td>Sophie F</td>\n",
              "      <td>31</td>\n",
              "      <td>2020-02-21</td>\n",
              "      <td>Took me years to secure a reservation, but it ...</td>\n",
              "      <td>2020-02-01</td>\n",
              "      <td>2</td>\n",
              "      <td>5</td>\n",
              "      <td>Friday</td>\n",
              "      <td>February</td>\n",
              "    </tr>\n",
              "  </tbody>\n",
              "</table>\n",
              "</div>\n",
              "      <button class=\"colab-df-convert\" onclick=\"convertToInteractive('df-1f58f582-540d-46fb-b101-fe68451bf000')\"\n",
              "              title=\"Convert this dataframe to an interactive table.\"\n",
              "              style=\"display:none;\">\n",
              "        \n",
              "  <svg xmlns=\"http://www.w3.org/2000/svg\" height=\"24px\"viewBox=\"0 0 24 24\"\n",
              "       width=\"24px\">\n",
              "    <path d=\"M0 0h24v24H0V0z\" fill=\"none\"/>\n",
              "    <path d=\"M18.56 5.44l.94 2.06.94-2.06 2.06-.94-2.06-.94-.94-2.06-.94 2.06-2.06.94zm-11 1L8.5 8.5l.94-2.06 2.06-.94-2.06-.94L8.5 2.5l-.94 2.06-2.06.94zm10 10l.94 2.06.94-2.06 2.06-.94-2.06-.94-.94-2.06-.94 2.06-2.06.94z\"/><path d=\"M17.41 7.96l-1.37-1.37c-.4-.4-.92-.59-1.43-.59-.52 0-1.04.2-1.43.59L10.3 9.45l-7.72 7.72c-.78.78-.78 2.05 0 2.83L4 21.41c.39.39.9.59 1.41.59.51 0 1.02-.2 1.41-.59l7.78-7.78 2.81-2.81c.8-.78.8-2.07 0-2.86zM5.41 20L4 18.59l7.72-7.72 1.47 1.35L5.41 20z\"/>\n",
              "  </svg>\n",
              "      </button>\n",
              "      \n",
              "  <style>\n",
              "    .colab-df-container {\n",
              "      display:flex;\n",
              "      flex-wrap:wrap;\n",
              "      gap: 12px;\n",
              "    }\n",
              "\n",
              "    .colab-df-convert {\n",
              "      background-color: #E8F0FE;\n",
              "      border: none;\n",
              "      border-radius: 50%;\n",
              "      cursor: pointer;\n",
              "      display: none;\n",
              "      fill: #1967D2;\n",
              "      height: 32px;\n",
              "      padding: 0 0 0 0;\n",
              "      width: 32px;\n",
              "    }\n",
              "\n",
              "    .colab-df-convert:hover {\n",
              "      background-color: #E2EBFA;\n",
              "      box-shadow: 0px 1px 2px rgba(60, 64, 67, 0.3), 0px 1px 3px 1px rgba(60, 64, 67, 0.15);\n",
              "      fill: #174EA6;\n",
              "    }\n",
              "\n",
              "    [theme=dark] .colab-df-convert {\n",
              "      background-color: #3B4455;\n",
              "      fill: #D2E3FC;\n",
              "    }\n",
              "\n",
              "    [theme=dark] .colab-df-convert:hover {\n",
              "      background-color: #434B5C;\n",
              "      box-shadow: 0px 1px 3px 1px rgba(0, 0, 0, 0.15);\n",
              "      filter: drop-shadow(0px 1px 2px rgba(0, 0, 0, 0.3));\n",
              "      fill: #FFFFFF;\n",
              "    }\n",
              "  </style>\n",
              "\n",
              "      <script>\n",
              "        const buttonEl =\n",
              "          document.querySelector('#df-1f58f582-540d-46fb-b101-fe68451bf000 button.colab-df-convert');\n",
              "        buttonEl.style.display =\n",
              "          google.colab.kernel.accessAllowed ? 'block' : 'none';\n",
              "\n",
              "        async function convertToInteractive(key) {\n",
              "          const element = document.querySelector('#df-1f58f582-540d-46fb-b101-fe68451bf000');\n",
              "          const dataTable =\n",
              "            await google.colab.kernel.invokeFunction('convertToInteractive',\n",
              "                                                     [key], {});\n",
              "          if (!dataTable) return;\n",
              "\n",
              "          const docLinkHtml = 'Like what you see? Visit the ' +\n",
              "            '<a target=\"_blank\" href=https://colab.research.google.com/notebooks/data_table.ipynb>data table notebook</a>'\n",
              "            + ' to learn more about interactive tables.';\n",
              "          element.innerHTML = '';\n",
              "          dataTable['output_type'] = 'display_data';\n",
              "          await google.colab.output.renderOutput(dataTable, element);\n",
              "          const docLink = document.createElement('div');\n",
              "          docLink.innerHTML = docLinkHtml;\n",
              "          element.appendChild(docLink);\n",
              "        }\n",
              "      </script>\n",
              "    </div>\n",
              "  </div>\n",
              "  "
            ],
            "text/plain": [
              "                                           rev_title  ...     month\n",
              "1                              great for vegetarians  ...    August\n",
              "2                   Spend your money somewhere else.  ...    August\n",
              "3       Spectacular - our high expectations were met  ...      July\n",
              "4                             Groumet as I'm used to  ...     March\n",
              "5  If you can get a table, you're in for the meal...  ...  February\n",
              "\n",
              "[5 rows x 10 columns]"
            ]
          },
          "metadata": {},
          "execution_count": 24
        }
      ]
    },
    {
      "cell_type": "code",
      "source": [
        "# select a subdataset for precovid reviews\n",
        "pre_data = data[data['ratingdate'] < '2020-03-14']\n",
        "pre_data.ratingdate.max()"
      ],
      "metadata": {
        "colab": {
          "base_uri": "https://localhost:8080/"
        },
        "id": "9hIV50qwdVV2",
        "outputId": "18ae33e9-51f3-4090-e5a4-ea201a6a043f"
      },
      "execution_count": 25,
      "outputs": [
        {
          "output_type": "execute_result",
          "data": {
            "text/plain": [
              "Timestamp('2020-03-10 00:00:00')"
            ]
          },
          "metadata": {},
          "execution_count": 25
        }
      ]
    },
    {
      "cell_type": "code",
      "source": [
        "# plot restaurant rating peak times according to weekday\n",
        "fig, ax = plt.subplots(figsize=(10, 5))\n",
        "\n",
        "order = [\"Monday\", \"Tuesday\", \"Wednesday\", \"Thursday\", \"Friday\", \"Saturday\", \"Sunday\"]\n",
        "sns.countplot(x='weekday', data=pre_data, order=order, palette='crest')\n",
        "ax.set(xlabel=None)\n",
        "ax.bar_label(ax.containers[0])\n",
        "ax.set_title('Weekly visits (inferred from rating dates)')\n",
        "\n",
        "plt.show()"
      ],
      "metadata": {
        "colab": {
          "base_uri": "https://localhost:8080/",
          "height": 338
        },
        "id": "3L8n4FQ1BZzc",
        "outputId": "1f28004c-e233-4553-ccaf-74d62b287dd4"
      },
      "execution_count": 26,
      "outputs": [
        {
          "output_type": "display_data",
          "data": {
            "image/png": "[encoded data removed]",
            "text/plain": [
              "<Figure size 720x360 with 1 Axes>"
            ]
          },
          "metadata": {}
        }
      ]
    },
    {
      "cell_type": "markdown",
      "source": [
        "This restaurant closes on weekends, so there is no way the ratings are all written on the day of the visit. However, we can observe a growing trend from Monday to Thursday, and we can assume most of Friday's ratings are written sometime during the weekend. "
      ],
      "metadata": {
        "id": "CZ5we7RmO7qc"
      }
    },
    {
      "cell_type": "code",
      "source": [
        "# plot restaurant visit distribution accross months\n",
        "fig, ax = plt.subplots(figsize=(10, 7))\n",
        "\n",
        "order = ['January', 'February', 'March', 'April', 'May', 'June', 'July', 'August', 'September', 'October', 'November', 'December']\n",
        "sns.countplot(y='month', data=pre_data, order=order, palette='crest')\n",
        "ax.set(ylabel=None)\n",
        "ax.bar_label(ax.containers[0])\n",
        "ax.set_title('Monthly visits (inferred from rating dates)')\n",
        "\n",
        "plt.show()"
      ],
      "metadata": {
        "colab": {
          "base_uri": "https://localhost:8080/",
          "height": 464
        },
        "id": "ffMY8v-bLFGW",
        "outputId": "9dff1d55-fc1f-4be0-f449-57d99e524fe7"
      },
      "execution_count": 27,
      "outputs": [
        {
          "output_type": "display_data",
          "data": {
            "image/png": "[encoded data removed]",
            "text/plain": [
              "<Figure size 720x504 with 1 Axes>"
            ]
          },
          "metadata": {}
        }
      ]
    },
    {
      "cell_type": "markdown",
      "source": [
        "## Exports"
      ],
      "metadata": {
        "id": "uhDDOl9ww39_"
      }
    },
    {
      "cell_type": "code",
      "source": [
        "data.to_csv('Tripadvisor_Septime_clean.csv', index=False) \n",
        "files.download('Tripadvisor_Septime_clean.csv')"
      ],
      "metadata": {
        "colab": {
          "base_uri": "https://localhost:8080/",
          "height": 17
        },
        "id": "3Ha3bVNiSYgH",
        "outputId": "dc3b76b6-3225-4b76-dc6f-86a026811ae5"
      },
      "execution_count": 28,
      "outputs": [
        {
          "output_type": "display_data",
          "data": {
            "application/javascript": [
              "\n",
              "    async function download(id, filename, size) {\n",
              "      if (!google.colab.kernel.accessAllowed) {\n",
              "        return;\n",
              "      }\n",
              "      const div = document.createElement('div');\n",
              "      const label = document.createElement('label');\n",
              "      label.textContent = `Downloading \"${filename}\": `;\n",
              "      div.appendChild(label);\n",
              "      const progress = document.createElement('progress');\n",
              "      progress.max = size;\n",
              "      div.appendChild(progress);\n",
              "      document.body.appendChild(div);\n",
              "\n",
              "      const buffers = [];\n",
              "      let downloaded = 0;\n",
              "\n",
              "      const channel = await google.colab.kernel.comms.open(id);\n",
              "      // Send a message to notify the kernel that we're ready.\n",
              "      channel.send({})\n",
              "\n",
              "      for await (const message of channel.messages) {\n",
              "        // Send a message to notify the kernel that we're ready.\n",
              "        channel.send({})\n",
              "        if (message.buffers) {\n",
              "          for (const buffer of message.buffers) {\n",
              "            buffers.push(buffer);\n",
              "            downloaded += buffer.byteLength;\n",
              "            progress.value = downloaded;\n",
              "          }\n",
              "        }\n",
              "      }\n",
              "      const blob = new Blob(buffers, {type: 'application/binary'});\n",
              "      const a = document.createElement('a');\n",
              "      a.href = window.URL.createObjectURL(blob);\n",
              "      a.download = filename;\n",
              "      div.appendChild(a);\n",
              "      a.click();\n",
              "      div.remove();\n",
              "    }\n",
              "  "
            ],
            "text/plain": [
              "<IPython.core.display.Javascript object>"
            ]
          },
          "metadata": {}
        },
        {
          "output_type": "display_data",
          "data": {
            "application/javascript": [
              "download(\"download_b37ba63b-4d6d-4d8e-9c48-1b53196feb0a\", \"Tripadvisor_Septime_clean.csv\", 233599)"
            ],
            "text/plain": [
              "<IPython.core.display.Javascript object>"
            ]
          },
          "metadata": {}
        }
      ]
    }
  ]
}